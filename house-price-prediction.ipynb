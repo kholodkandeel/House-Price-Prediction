{
 "cells": [
  {
   "cell_type": "code",
   "execution_count": 1,
   "id": "ad6602ac",
   "metadata": {
    "execution": {
     "iopub.execute_input": "2022-03-25T15:50:03.921155Z",
     "iopub.status.busy": "2022-03-25T15:50:03.915035Z",
     "iopub.status.idle": "2022-03-25T15:50:05.079706Z",
     "shell.execute_reply": "2022-03-25T15:50:05.078891Z",
     "shell.execute_reply.started": "2022-03-25T15:47:35.998387Z"
    },
    "papermill": {
     "duration": 1.194593,
     "end_time": "2022-03-25T15:50:05.079924",
     "exception": false,
     "start_time": "2022-03-25T15:50:03.885331",
     "status": "completed"
    },
    "tags": []
   },
   "outputs": [],
   "source": [
    "# importing libraries\n",
    "import numpy as np\n",
    "import pandas as pd\n",
    "\n",
    "from xgboost import XGBRegressor\n",
    "from sklearn.metrics import mean_absolute_error\n",
    "from sklearn.model_selection import train_test_split"
   ]
  },
  {
   "cell_type": "markdown",
   "id": "2a567091",
   "metadata": {
    "papermill": {
     "duration": 0.018745,
     "end_time": "2022-03-25T15:50:05.119774",
     "exception": false,
     "start_time": "2022-03-25T15:50:05.101029",
     "status": "completed"
    },
    "tags": []
   },
   "source": [
    "## Exploratory Data Analysis"
   ]
  },
  {
   "cell_type": "code",
   "execution_count": 2,
   "id": "8f8f5624",
   "metadata": {
    "execution": {
     "iopub.execute_input": "2022-03-25T15:50:05.163692Z",
     "iopub.status.busy": "2022-03-25T15:50:05.163080Z",
     "iopub.status.idle": "2022-03-25T15:50:05.266123Z",
     "shell.execute_reply": "2022-03-25T15:50:05.265161Z",
     "shell.execute_reply.started": "2022-03-25T15:47:36.396615Z"
    },
    "papermill": {
     "duration": 0.127425,
     "end_time": "2022-03-25T15:50:05.266382",
     "exception": false,
     "start_time": "2022-03-25T15:50:05.138957",
     "status": "completed"
    },
    "tags": []
   },
   "outputs": [],
   "source": [
    "# Read the data\n",
    "train = pd.read_csv('../input/home-data-for-ml-course/train.csv', index_col='Id')\n",
    "test = pd.read_csv('../input/home-data-for-ml-course/test.csv', index_col='Id')"
   ]
  },
  {
   "cell_type": "markdown",
   "id": "d7e43474",
   "metadata": {
    "papermill": {
     "duration": 0.023516,
     "end_time": "2022-03-25T15:50:05.314743",
     "exception": false,
     "start_time": "2022-03-25T15:50:05.291227",
     "status": "completed"
    },
    "tags": []
   },
   "source": [
    "#### Train data"
   ]
  },
  {
   "cell_type": "code",
   "execution_count": 3,
   "id": "87e4037c",
   "metadata": {
    "execution": {
     "iopub.execute_input": "2022-03-25T15:50:05.365676Z",
     "iopub.status.busy": "2022-03-25T15:50:05.365026Z",
     "iopub.status.idle": "2022-03-25T15:50:05.397332Z",
     "shell.execute_reply": "2022-03-25T15:50:05.396730Z",
     "shell.execute_reply.started": "2022-03-25T15:47:36.455479Z"
    },
    "papermill": {
     "duration": 0.061904,
     "end_time": "2022-03-25T15:50:05.397492",
     "exception": false,
     "start_time": "2022-03-25T15:50:05.335588",
     "status": "completed"
    },
    "tags": []
   },
   "outputs": [
    {
     "data": {
      "text/html": [
       "<div>\n",
       "<style scoped>\n",
       "    .dataframe tbody tr th:only-of-type {\n",
       "        vertical-align: middle;\n",
       "    }\n",
       "\n",
       "    .dataframe tbody tr th {\n",
       "        vertical-align: top;\n",
       "    }\n",
       "\n",
       "    .dataframe thead th {\n",
       "        text-align: right;\n",
       "    }\n",
       "</style>\n",
       "<table border=\"1\" class=\"dataframe\">\n",
       "  <thead>\n",
       "    <tr style=\"text-align: right;\">\n",
       "      <th></th>\n",
       "      <th>MSSubClass</th>\n",
       "      <th>MSZoning</th>\n",
       "      <th>LotFrontage</th>\n",
       "      <th>LotArea</th>\n",
       "      <th>Street</th>\n",
       "      <th>Alley</th>\n",
       "      <th>LotShape</th>\n",
       "      <th>LandContour</th>\n",
       "      <th>Utilities</th>\n",
       "      <th>LotConfig</th>\n",
       "      <th>...</th>\n",
       "      <th>PoolArea</th>\n",
       "      <th>PoolQC</th>\n",
       "      <th>Fence</th>\n",
       "      <th>MiscFeature</th>\n",
       "      <th>MiscVal</th>\n",
       "      <th>MoSold</th>\n",
       "      <th>YrSold</th>\n",
       "      <th>SaleType</th>\n",
       "      <th>SaleCondition</th>\n",
       "      <th>SalePrice</th>\n",
       "    </tr>\n",
       "    <tr>\n",
       "      <th>Id</th>\n",
       "      <th></th>\n",
       "      <th></th>\n",
       "      <th></th>\n",
       "      <th></th>\n",
       "      <th></th>\n",
       "      <th></th>\n",
       "      <th></th>\n",
       "      <th></th>\n",
       "      <th></th>\n",
       "      <th></th>\n",
       "      <th></th>\n",
       "      <th></th>\n",
       "      <th></th>\n",
       "      <th></th>\n",
       "      <th></th>\n",
       "      <th></th>\n",
       "      <th></th>\n",
       "      <th></th>\n",
       "      <th></th>\n",
       "      <th></th>\n",
       "      <th></th>\n",
       "    </tr>\n",
       "  </thead>\n",
       "  <tbody>\n",
       "    <tr>\n",
       "      <th>1</th>\n",
       "      <td>60</td>\n",
       "      <td>RL</td>\n",
       "      <td>65.0</td>\n",
       "      <td>8450</td>\n",
       "      <td>Pave</td>\n",
       "      <td>NaN</td>\n",
       "      <td>Reg</td>\n",
       "      <td>Lvl</td>\n",
       "      <td>AllPub</td>\n",
       "      <td>Inside</td>\n",
       "      <td>...</td>\n",
       "      <td>0</td>\n",
       "      <td>NaN</td>\n",
       "      <td>NaN</td>\n",
       "      <td>NaN</td>\n",
       "      <td>0</td>\n",
       "      <td>2</td>\n",
       "      <td>2008</td>\n",
       "      <td>WD</td>\n",
       "      <td>Normal</td>\n",
       "      <td>208500</td>\n",
       "    </tr>\n",
       "    <tr>\n",
       "      <th>2</th>\n",
       "      <td>20</td>\n",
       "      <td>RL</td>\n",
       "      <td>80.0</td>\n",
       "      <td>9600</td>\n",
       "      <td>Pave</td>\n",
       "      <td>NaN</td>\n",
       "      <td>Reg</td>\n",
       "      <td>Lvl</td>\n",
       "      <td>AllPub</td>\n",
       "      <td>FR2</td>\n",
       "      <td>...</td>\n",
       "      <td>0</td>\n",
       "      <td>NaN</td>\n",
       "      <td>NaN</td>\n",
       "      <td>NaN</td>\n",
       "      <td>0</td>\n",
       "      <td>5</td>\n",
       "      <td>2007</td>\n",
       "      <td>WD</td>\n",
       "      <td>Normal</td>\n",
       "      <td>181500</td>\n",
       "    </tr>\n",
       "    <tr>\n",
       "      <th>3</th>\n",
       "      <td>60</td>\n",
       "      <td>RL</td>\n",
       "      <td>68.0</td>\n",
       "      <td>11250</td>\n",
       "      <td>Pave</td>\n",
       "      <td>NaN</td>\n",
       "      <td>IR1</td>\n",
       "      <td>Lvl</td>\n",
       "      <td>AllPub</td>\n",
       "      <td>Inside</td>\n",
       "      <td>...</td>\n",
       "      <td>0</td>\n",
       "      <td>NaN</td>\n",
       "      <td>NaN</td>\n",
       "      <td>NaN</td>\n",
       "      <td>0</td>\n",
       "      <td>9</td>\n",
       "      <td>2008</td>\n",
       "      <td>WD</td>\n",
       "      <td>Normal</td>\n",
       "      <td>223500</td>\n",
       "    </tr>\n",
       "    <tr>\n",
       "      <th>4</th>\n",
       "      <td>70</td>\n",
       "      <td>RL</td>\n",
       "      <td>60.0</td>\n",
       "      <td>9550</td>\n",
       "      <td>Pave</td>\n",
       "      <td>NaN</td>\n",
       "      <td>IR1</td>\n",
       "      <td>Lvl</td>\n",
       "      <td>AllPub</td>\n",
       "      <td>Corner</td>\n",
       "      <td>...</td>\n",
       "      <td>0</td>\n",
       "      <td>NaN</td>\n",
       "      <td>NaN</td>\n",
       "      <td>NaN</td>\n",
       "      <td>0</td>\n",
       "      <td>2</td>\n",
       "      <td>2006</td>\n",
       "      <td>WD</td>\n",
       "      <td>Abnorml</td>\n",
       "      <td>140000</td>\n",
       "    </tr>\n",
       "    <tr>\n",
       "      <th>5</th>\n",
       "      <td>60</td>\n",
       "      <td>RL</td>\n",
       "      <td>84.0</td>\n",
       "      <td>14260</td>\n",
       "      <td>Pave</td>\n",
       "      <td>NaN</td>\n",
       "      <td>IR1</td>\n",
       "      <td>Lvl</td>\n",
       "      <td>AllPub</td>\n",
       "      <td>FR2</td>\n",
       "      <td>...</td>\n",
       "      <td>0</td>\n",
       "      <td>NaN</td>\n",
       "      <td>NaN</td>\n",
       "      <td>NaN</td>\n",
       "      <td>0</td>\n",
       "      <td>12</td>\n",
       "      <td>2008</td>\n",
       "      <td>WD</td>\n",
       "      <td>Normal</td>\n",
       "      <td>250000</td>\n",
       "    </tr>\n",
       "  </tbody>\n",
       "</table>\n",
       "<p>5 rows × 80 columns</p>\n",
       "</div>"
      ],
      "text/plain": [
       "    MSSubClass MSZoning  LotFrontage  LotArea Street Alley LotShape  \\\n",
       "Id                                                                    \n",
       "1           60       RL         65.0     8450   Pave   NaN      Reg   \n",
       "2           20       RL         80.0     9600   Pave   NaN      Reg   \n",
       "3           60       RL         68.0    11250   Pave   NaN      IR1   \n",
       "4           70       RL         60.0     9550   Pave   NaN      IR1   \n",
       "5           60       RL         84.0    14260   Pave   NaN      IR1   \n",
       "\n",
       "   LandContour Utilities LotConfig  ... PoolArea PoolQC Fence MiscFeature  \\\n",
       "Id                                  ...                                     \n",
       "1          Lvl    AllPub    Inside  ...        0    NaN   NaN         NaN   \n",
       "2          Lvl    AllPub       FR2  ...        0    NaN   NaN         NaN   \n",
       "3          Lvl    AllPub    Inside  ...        0    NaN   NaN         NaN   \n",
       "4          Lvl    AllPub    Corner  ...        0    NaN   NaN         NaN   \n",
       "5          Lvl    AllPub       FR2  ...        0    NaN   NaN         NaN   \n",
       "\n",
       "   MiscVal MoSold  YrSold  SaleType  SaleCondition  SalePrice  \n",
       "Id                                                             \n",
       "1        0      2    2008        WD         Normal     208500  \n",
       "2        0      5    2007        WD         Normal     181500  \n",
       "3        0      9    2008        WD         Normal     223500  \n",
       "4        0      2    2006        WD        Abnorml     140000  \n",
       "5        0     12    2008        WD         Normal     250000  \n",
       "\n",
       "[5 rows x 80 columns]"
      ]
     },
     "execution_count": 3,
     "metadata": {},
     "output_type": "execute_result"
    }
   ],
   "source": [
    "# print first five rows\n",
    "train.head()"
   ]
  },
  {
   "cell_type": "code",
   "execution_count": 4,
   "id": "cd537665",
   "metadata": {
    "execution": {
     "iopub.execute_input": "2022-03-25T15:50:05.445052Z",
     "iopub.status.busy": "2022-03-25T15:50:05.444293Z",
     "iopub.status.idle": "2022-03-25T15:50:05.448235Z",
     "shell.execute_reply": "2022-03-25T15:50:05.448861Z",
     "shell.execute_reply.started": "2022-03-25T15:47:36.492661Z"
    },
    "papermill": {
     "duration": 0.030828,
     "end_time": "2022-03-25T15:50:05.449047",
     "exception": false,
     "start_time": "2022-03-25T15:50:05.418219",
     "status": "completed"
    },
    "tags": []
   },
   "outputs": [
    {
     "data": {
      "text/plain": [
       "Index(['MSSubClass', 'MSZoning', 'LotFrontage', 'LotArea', 'Street', 'Alley',\n",
       "       'LotShape', 'LandContour', 'Utilities', 'LotConfig', 'LandSlope',\n",
       "       'Neighborhood', 'Condition1', 'Condition2', 'BldgType', 'HouseStyle',\n",
       "       'OverallQual', 'OverallCond', 'YearBuilt', 'YearRemodAdd', 'RoofStyle',\n",
       "       'RoofMatl', 'Exterior1st', 'Exterior2nd', 'MasVnrType', 'MasVnrArea',\n",
       "       'ExterQual', 'ExterCond', 'Foundation', 'BsmtQual', 'BsmtCond',\n",
       "       'BsmtExposure', 'BsmtFinType1', 'BsmtFinSF1', 'BsmtFinType2',\n",
       "       'BsmtFinSF2', 'BsmtUnfSF', 'TotalBsmtSF', 'Heating', 'HeatingQC',\n",
       "       'CentralAir', 'Electrical', '1stFlrSF', '2ndFlrSF', 'LowQualFinSF',\n",
       "       'GrLivArea', 'BsmtFullBath', 'BsmtHalfBath', 'FullBath', 'HalfBath',\n",
       "       'BedroomAbvGr', 'KitchenAbvGr', 'KitchenQual', 'TotRmsAbvGrd',\n",
       "       'Functional', 'Fireplaces', 'FireplaceQu', 'GarageType', 'GarageYrBlt',\n",
       "       'GarageFinish', 'GarageCars', 'GarageArea', 'GarageQual', 'GarageCond',\n",
       "       'PavedDrive', 'WoodDeckSF', 'OpenPorchSF', 'EnclosedPorch', '3SsnPorch',\n",
       "       'ScreenPorch', 'PoolArea', 'PoolQC', 'Fence', 'MiscFeature', 'MiscVal',\n",
       "       'MoSold', 'YrSold', 'SaleType', 'SaleCondition', 'SalePrice'],\n",
       "      dtype='object')"
      ]
     },
     "execution_count": 4,
     "metadata": {},
     "output_type": "execute_result"
    }
   ],
   "source": [
    "# column names\n",
    "train.columns"
   ]
  },
  {
   "cell_type": "code",
   "execution_count": 5,
   "id": "f783b011",
   "metadata": {
    "execution": {
     "iopub.execute_input": "2022-03-25T15:50:05.495065Z",
     "iopub.status.busy": "2022-03-25T15:50:05.492275Z",
     "iopub.status.idle": "2022-03-25T15:50:05.530987Z",
     "shell.execute_reply": "2022-03-25T15:50:05.531558Z",
     "shell.execute_reply.started": "2022-03-25T15:47:36.501910Z"
    },
    "papermill": {
     "duration": 0.062053,
     "end_time": "2022-03-25T15:50:05.531771",
     "exception": false,
     "start_time": "2022-03-25T15:50:05.469718",
     "status": "completed"
    },
    "tags": []
   },
   "outputs": [
    {
     "data": {
      "text/plain": [
       "LotFrontage      259\n",
       "Alley           1369\n",
       "MasVnrType         8\n",
       "MasVnrArea         8\n",
       "BsmtQual          37\n",
       "BsmtCond          37\n",
       "BsmtExposure      38\n",
       "BsmtFinType1      37\n",
       "BsmtFinType2      38\n",
       "Electrical         1\n",
       "FireplaceQu      690\n",
       "GarageType        81\n",
       "GarageYrBlt       81\n",
       "GarageFinish      81\n",
       "GarageQual        81\n",
       "GarageCond        81\n",
       "PoolQC          1453\n",
       "Fence           1179\n",
       "MiscFeature     1406\n",
       "dtype: int64"
      ]
     },
     "execution_count": 5,
     "metadata": {},
     "output_type": "execute_result"
    }
   ],
   "source": [
    "# columns with null values\n",
    "train_col_null = train.columns[train.isnull().any()==True].tolist()\n",
    "# null values in these columns\n",
    "train[train_col_null].isnull().sum()"
   ]
  },
  {
   "cell_type": "markdown",
   "id": "e645555e",
   "metadata": {
    "papermill": {
     "duration": 0.02163,
     "end_time": "2022-03-25T15:50:05.576085",
     "exception": false,
     "start_time": "2022-03-25T15:50:05.554455",
     "status": "completed"
    },
    "tags": []
   },
   "source": [
    "#### Test data"
   ]
  },
  {
   "cell_type": "code",
   "execution_count": 6,
   "id": "804bb316",
   "metadata": {
    "execution": {
     "iopub.execute_input": "2022-03-25T15:50:05.623075Z",
     "iopub.status.busy": "2022-03-25T15:50:05.622401Z",
     "iopub.status.idle": "2022-03-25T15:50:05.656130Z",
     "shell.execute_reply": "2022-03-25T15:50:05.656717Z",
     "shell.execute_reply.started": "2022-03-25T15:47:36.527451Z"
    },
    "papermill": {
     "duration": 0.059122,
     "end_time": "2022-03-25T15:50:05.656936",
     "exception": false,
     "start_time": "2022-03-25T15:50:05.597814",
     "status": "completed"
    },
    "tags": []
   },
   "outputs": [
    {
     "data": {
      "text/html": [
       "<div>\n",
       "<style scoped>\n",
       "    .dataframe tbody tr th:only-of-type {\n",
       "        vertical-align: middle;\n",
       "    }\n",
       "\n",
       "    .dataframe tbody tr th {\n",
       "        vertical-align: top;\n",
       "    }\n",
       "\n",
       "    .dataframe thead th {\n",
       "        text-align: right;\n",
       "    }\n",
       "</style>\n",
       "<table border=\"1\" class=\"dataframe\">\n",
       "  <thead>\n",
       "    <tr style=\"text-align: right;\">\n",
       "      <th></th>\n",
       "      <th>MSSubClass</th>\n",
       "      <th>MSZoning</th>\n",
       "      <th>LotFrontage</th>\n",
       "      <th>LotArea</th>\n",
       "      <th>Street</th>\n",
       "      <th>Alley</th>\n",
       "      <th>LotShape</th>\n",
       "      <th>LandContour</th>\n",
       "      <th>Utilities</th>\n",
       "      <th>LotConfig</th>\n",
       "      <th>...</th>\n",
       "      <th>ScreenPorch</th>\n",
       "      <th>PoolArea</th>\n",
       "      <th>PoolQC</th>\n",
       "      <th>Fence</th>\n",
       "      <th>MiscFeature</th>\n",
       "      <th>MiscVal</th>\n",
       "      <th>MoSold</th>\n",
       "      <th>YrSold</th>\n",
       "      <th>SaleType</th>\n",
       "      <th>SaleCondition</th>\n",
       "    </tr>\n",
       "    <tr>\n",
       "      <th>Id</th>\n",
       "      <th></th>\n",
       "      <th></th>\n",
       "      <th></th>\n",
       "      <th></th>\n",
       "      <th></th>\n",
       "      <th></th>\n",
       "      <th></th>\n",
       "      <th></th>\n",
       "      <th></th>\n",
       "      <th></th>\n",
       "      <th></th>\n",
       "      <th></th>\n",
       "      <th></th>\n",
       "      <th></th>\n",
       "      <th></th>\n",
       "      <th></th>\n",
       "      <th></th>\n",
       "      <th></th>\n",
       "      <th></th>\n",
       "      <th></th>\n",
       "      <th></th>\n",
       "    </tr>\n",
       "  </thead>\n",
       "  <tbody>\n",
       "    <tr>\n",
       "      <th>1461</th>\n",
       "      <td>20</td>\n",
       "      <td>RH</td>\n",
       "      <td>80.0</td>\n",
       "      <td>11622</td>\n",
       "      <td>Pave</td>\n",
       "      <td>NaN</td>\n",
       "      <td>Reg</td>\n",
       "      <td>Lvl</td>\n",
       "      <td>AllPub</td>\n",
       "      <td>Inside</td>\n",
       "      <td>...</td>\n",
       "      <td>120</td>\n",
       "      <td>0</td>\n",
       "      <td>NaN</td>\n",
       "      <td>MnPrv</td>\n",
       "      <td>NaN</td>\n",
       "      <td>0</td>\n",
       "      <td>6</td>\n",
       "      <td>2010</td>\n",
       "      <td>WD</td>\n",
       "      <td>Normal</td>\n",
       "    </tr>\n",
       "    <tr>\n",
       "      <th>1462</th>\n",
       "      <td>20</td>\n",
       "      <td>RL</td>\n",
       "      <td>81.0</td>\n",
       "      <td>14267</td>\n",
       "      <td>Pave</td>\n",
       "      <td>NaN</td>\n",
       "      <td>IR1</td>\n",
       "      <td>Lvl</td>\n",
       "      <td>AllPub</td>\n",
       "      <td>Corner</td>\n",
       "      <td>...</td>\n",
       "      <td>0</td>\n",
       "      <td>0</td>\n",
       "      <td>NaN</td>\n",
       "      <td>NaN</td>\n",
       "      <td>Gar2</td>\n",
       "      <td>12500</td>\n",
       "      <td>6</td>\n",
       "      <td>2010</td>\n",
       "      <td>WD</td>\n",
       "      <td>Normal</td>\n",
       "    </tr>\n",
       "    <tr>\n",
       "      <th>1463</th>\n",
       "      <td>60</td>\n",
       "      <td>RL</td>\n",
       "      <td>74.0</td>\n",
       "      <td>13830</td>\n",
       "      <td>Pave</td>\n",
       "      <td>NaN</td>\n",
       "      <td>IR1</td>\n",
       "      <td>Lvl</td>\n",
       "      <td>AllPub</td>\n",
       "      <td>Inside</td>\n",
       "      <td>...</td>\n",
       "      <td>0</td>\n",
       "      <td>0</td>\n",
       "      <td>NaN</td>\n",
       "      <td>MnPrv</td>\n",
       "      <td>NaN</td>\n",
       "      <td>0</td>\n",
       "      <td>3</td>\n",
       "      <td>2010</td>\n",
       "      <td>WD</td>\n",
       "      <td>Normal</td>\n",
       "    </tr>\n",
       "    <tr>\n",
       "      <th>1464</th>\n",
       "      <td>60</td>\n",
       "      <td>RL</td>\n",
       "      <td>78.0</td>\n",
       "      <td>9978</td>\n",
       "      <td>Pave</td>\n",
       "      <td>NaN</td>\n",
       "      <td>IR1</td>\n",
       "      <td>Lvl</td>\n",
       "      <td>AllPub</td>\n",
       "      <td>Inside</td>\n",
       "      <td>...</td>\n",
       "      <td>0</td>\n",
       "      <td>0</td>\n",
       "      <td>NaN</td>\n",
       "      <td>NaN</td>\n",
       "      <td>NaN</td>\n",
       "      <td>0</td>\n",
       "      <td>6</td>\n",
       "      <td>2010</td>\n",
       "      <td>WD</td>\n",
       "      <td>Normal</td>\n",
       "    </tr>\n",
       "    <tr>\n",
       "      <th>1465</th>\n",
       "      <td>120</td>\n",
       "      <td>RL</td>\n",
       "      <td>43.0</td>\n",
       "      <td>5005</td>\n",
       "      <td>Pave</td>\n",
       "      <td>NaN</td>\n",
       "      <td>IR1</td>\n",
       "      <td>HLS</td>\n",
       "      <td>AllPub</td>\n",
       "      <td>Inside</td>\n",
       "      <td>...</td>\n",
       "      <td>144</td>\n",
       "      <td>0</td>\n",
       "      <td>NaN</td>\n",
       "      <td>NaN</td>\n",
       "      <td>NaN</td>\n",
       "      <td>0</td>\n",
       "      <td>1</td>\n",
       "      <td>2010</td>\n",
       "      <td>WD</td>\n",
       "      <td>Normal</td>\n",
       "    </tr>\n",
       "  </tbody>\n",
       "</table>\n",
       "<p>5 rows × 79 columns</p>\n",
       "</div>"
      ],
      "text/plain": [
       "      MSSubClass MSZoning  LotFrontage  LotArea Street Alley LotShape  \\\n",
       "Id                                                                      \n",
       "1461          20       RH         80.0    11622   Pave   NaN      Reg   \n",
       "1462          20       RL         81.0    14267   Pave   NaN      IR1   \n",
       "1463          60       RL         74.0    13830   Pave   NaN      IR1   \n",
       "1464          60       RL         78.0     9978   Pave   NaN      IR1   \n",
       "1465         120       RL         43.0     5005   Pave   NaN      IR1   \n",
       "\n",
       "     LandContour Utilities LotConfig  ... ScreenPorch PoolArea PoolQC  Fence  \\\n",
       "Id                                    ...                                      \n",
       "1461         Lvl    AllPub    Inside  ...         120        0    NaN  MnPrv   \n",
       "1462         Lvl    AllPub    Corner  ...           0        0    NaN    NaN   \n",
       "1463         Lvl    AllPub    Inside  ...           0        0    NaN  MnPrv   \n",
       "1464         Lvl    AllPub    Inside  ...           0        0    NaN    NaN   \n",
       "1465         HLS    AllPub    Inside  ...         144        0    NaN    NaN   \n",
       "\n",
       "     MiscFeature MiscVal  MoSold  YrSold  SaleType  SaleCondition  \n",
       "Id                                                                 \n",
       "1461         NaN       0       6    2010        WD         Normal  \n",
       "1462        Gar2   12500       6    2010        WD         Normal  \n",
       "1463         NaN       0       3    2010        WD         Normal  \n",
       "1464         NaN       0       6    2010        WD         Normal  \n",
       "1465         NaN       0       1    2010        WD         Normal  \n",
       "\n",
       "[5 rows x 79 columns]"
      ]
     },
     "execution_count": 6,
     "metadata": {},
     "output_type": "execute_result"
    }
   ],
   "source": [
    "# print first five rows\n",
    "test.head()"
   ]
  },
  {
   "cell_type": "code",
   "execution_count": 7,
   "id": "ebc67d17",
   "metadata": {
    "execution": {
     "iopub.execute_input": "2022-03-25T15:50:05.703476Z",
     "iopub.status.busy": "2022-03-25T15:50:05.702771Z",
     "iopub.status.idle": "2022-03-25T15:50:05.709104Z",
     "shell.execute_reply": "2022-03-25T15:50:05.709621Z",
     "shell.execute_reply.started": "2022-03-25T15:47:36.556377Z"
    },
    "papermill": {
     "duration": 0.031052,
     "end_time": "2022-03-25T15:50:05.709796",
     "exception": false,
     "start_time": "2022-03-25T15:50:05.678744",
     "status": "completed"
    },
    "tags": []
   },
   "outputs": [
    {
     "data": {
      "text/plain": [
       "Index(['MSSubClass', 'MSZoning', 'LotFrontage', 'LotArea', 'Street', 'Alley',\n",
       "       'LotShape', 'LandContour', 'Utilities', 'LotConfig', 'LandSlope',\n",
       "       'Neighborhood', 'Condition1', 'Condition2', 'BldgType', 'HouseStyle',\n",
       "       'OverallQual', 'OverallCond', 'YearBuilt', 'YearRemodAdd', 'RoofStyle',\n",
       "       'RoofMatl', 'Exterior1st', 'Exterior2nd', 'MasVnrType', 'MasVnrArea',\n",
       "       'ExterQual', 'ExterCond', 'Foundation', 'BsmtQual', 'BsmtCond',\n",
       "       'BsmtExposure', 'BsmtFinType1', 'BsmtFinSF1', 'BsmtFinType2',\n",
       "       'BsmtFinSF2', 'BsmtUnfSF', 'TotalBsmtSF', 'Heating', 'HeatingQC',\n",
       "       'CentralAir', 'Electrical', '1stFlrSF', '2ndFlrSF', 'LowQualFinSF',\n",
       "       'GrLivArea', 'BsmtFullBath', 'BsmtHalfBath', 'FullBath', 'HalfBath',\n",
       "       'BedroomAbvGr', 'KitchenAbvGr', 'KitchenQual', 'TotRmsAbvGrd',\n",
       "       'Functional', 'Fireplaces', 'FireplaceQu', 'GarageType', 'GarageYrBlt',\n",
       "       'GarageFinish', 'GarageCars', 'GarageArea', 'GarageQual', 'GarageCond',\n",
       "       'PavedDrive', 'WoodDeckSF', 'OpenPorchSF', 'EnclosedPorch', '3SsnPorch',\n",
       "       'ScreenPorch', 'PoolArea', 'PoolQC', 'Fence', 'MiscFeature', 'MiscVal',\n",
       "       'MoSold', 'YrSold', 'SaleType', 'SaleCondition'],\n",
       "      dtype='object')"
      ]
     },
     "execution_count": 7,
     "metadata": {},
     "output_type": "execute_result"
    }
   ],
   "source": [
    "# column names\n",
    "test.columns"
   ]
  },
  {
   "cell_type": "code",
   "execution_count": 8,
   "id": "66bbfbfc",
   "metadata": {
    "execution": {
     "iopub.execute_input": "2022-03-25T15:50:05.767519Z",
     "iopub.status.busy": "2022-03-25T15:50:05.766770Z",
     "iopub.status.idle": "2022-03-25T15:50:05.779657Z",
     "shell.execute_reply": "2022-03-25T15:50:05.780226Z",
     "shell.execute_reply.started": "2022-03-25T15:47:36.568115Z"
    },
    "papermill": {
     "duration": 0.047979,
     "end_time": "2022-03-25T15:50:05.780443",
     "exception": false,
     "start_time": "2022-03-25T15:50:05.732464",
     "status": "completed"
    },
    "tags": []
   },
   "outputs": [
    {
     "data": {
      "text/plain": [
       "MSZoning           4\n",
       "LotFrontage      227\n",
       "Alley           1352\n",
       "Utilities          2\n",
       "Exterior1st        1\n",
       "Exterior2nd        1\n",
       "MasVnrType        16\n",
       "MasVnrArea        15\n",
       "BsmtQual          44\n",
       "BsmtCond          45\n",
       "BsmtExposure      44\n",
       "BsmtFinType1      42\n",
       "BsmtFinSF1         1\n",
       "BsmtFinType2      42\n",
       "BsmtFinSF2         1\n",
       "BsmtUnfSF          1\n",
       "TotalBsmtSF        1\n",
       "BsmtFullBath       2\n",
       "BsmtHalfBath       2\n",
       "KitchenQual        1\n",
       "Functional         2\n",
       "FireplaceQu      730\n",
       "GarageType        76\n",
       "GarageYrBlt       78\n",
       "GarageFinish      78\n",
       "GarageCars         1\n",
       "GarageArea         1\n",
       "GarageQual        78\n",
       "GarageCond        78\n",
       "PoolQC          1456\n",
       "Fence           1169\n",
       "MiscFeature     1408\n",
       "SaleType           1\n",
       "dtype: int64"
      ]
     },
     "execution_count": 8,
     "metadata": {},
     "output_type": "execute_result"
    }
   ],
   "source": [
    "# columns with null values\n",
    "test_col_null = test.columns[test.isnull().any()==True].tolist()\n",
    "# null values in these columns\n",
    "test[test_col_null].isnull().sum()"
   ]
  },
  {
   "cell_type": "markdown",
   "id": "9126f458",
   "metadata": {
    "papermill": {
     "duration": 0.023938,
     "end_time": "2022-03-25T15:50:05.829186",
     "exception": false,
     "start_time": "2022-03-25T15:50:05.805248",
     "status": "completed"
    },
    "tags": []
   },
   "source": [
    "## Feature Engineering"
   ]
  },
  {
   "cell_type": "code",
   "execution_count": 9,
   "id": "54b9af03",
   "metadata": {
    "execution": {
     "iopub.execute_input": "2022-03-25T15:50:05.879125Z",
     "iopub.status.busy": "2022-03-25T15:50:05.878462Z",
     "iopub.status.idle": "2022-03-25T15:50:05.891267Z",
     "shell.execute_reply": "2022-03-25T15:50:05.891825Z",
     "shell.execute_reply.started": "2022-03-25T15:47:36.588238Z"
    },
    "papermill": {
     "duration": 0.039479,
     "end_time": "2022-03-25T15:50:05.892021",
     "exception": false,
     "start_time": "2022-03-25T15:50:05.852542",
     "status": "completed"
    },
    "tags": []
   },
   "outputs": [],
   "source": [
    "# Remove rows with missing target\n",
    "X = train.dropna(axis=0, subset=['SalePrice'])\n",
    "\n",
    "# separate target from predictors\n",
    "y = X.SalePrice              \n",
    "X.drop(['SalePrice'], axis=1, inplace=True)"
   ]
  },
  {
   "cell_type": "code",
   "execution_count": 10,
   "id": "83748f6c",
   "metadata": {
    "execution": {
     "iopub.execute_input": "2022-03-25T15:50:05.944659Z",
     "iopub.status.busy": "2022-03-25T15:50:05.943632Z",
     "iopub.status.idle": "2022-03-25T15:50:05.952385Z",
     "shell.execute_reply": "2022-03-25T15:50:05.952875Z",
     "shell.execute_reply.started": "2022-03-25T15:47:36.600703Z"
    },
    "papermill": {
     "duration": 0.03671,
     "end_time": "2022-03-25T15:50:05.953060",
     "exception": false,
     "start_time": "2022-03-25T15:50:05.916350",
     "status": "completed"
    },
    "tags": []
   },
   "outputs": [],
   "source": [
    "# Break off validation set from training data\n",
    "X_train_full, X_valid_full, y_train, y_valid = train_test_split(X, y,\n",
    "                                                                train_size=0.8,\n",
    "                                                                test_size=0.2,\n",
    "                                                                random_state=0)"
   ]
  },
  {
   "cell_type": "code",
   "execution_count": 11,
   "id": "7e754884",
   "metadata": {
    "execution": {
     "iopub.execute_input": "2022-03-25T15:50:06.002223Z",
     "iopub.status.busy": "2022-03-25T15:50:06.001485Z",
     "iopub.status.idle": "2022-03-25T15:50:06.045121Z",
     "shell.execute_reply": "2022-03-25T15:50:06.045611Z",
     "shell.execute_reply.started": "2022-03-25T15:47:36.612393Z"
    },
    "papermill": {
     "duration": 0.069654,
     "end_time": "2022-03-25T15:50:06.045807",
     "exception": false,
     "start_time": "2022-03-25T15:50:05.976153",
     "status": "completed"
    },
    "tags": []
   },
   "outputs": [],
   "source": [
    "# \"Cardinality\" means the number of unique values in a column\n",
    "# Select categorical columns with relatively low cardinality (convenient but arbitrary)\n",
    "\n",
    "low_cardinality_cols = [cname for cname in X_train_full.columns \n",
    "                        if X_train_full[cname].nunique() < 10 and \n",
    "                        X_train_full[cname].dtype == \"object\"]"
   ]
  },
  {
   "cell_type": "code",
   "execution_count": 12,
   "id": "9479f0d2",
   "metadata": {
    "execution": {
     "iopub.execute_input": "2022-03-25T15:50:06.094048Z",
     "iopub.status.busy": "2022-03-25T15:50:06.093343Z",
     "iopub.status.idle": "2022-03-25T15:50:06.098748Z",
     "shell.execute_reply": "2022-03-25T15:50:06.099512Z",
     "shell.execute_reply.started": "2022-03-25T15:47:36.648218Z"
    },
    "papermill": {
     "duration": 0.03167,
     "end_time": "2022-03-25T15:50:06.099768",
     "exception": false,
     "start_time": "2022-03-25T15:50:06.068098",
     "status": "completed"
    },
    "tags": []
   },
   "outputs": [],
   "source": [
    "# Select numeric columns\n",
    "numeric_cols = [cname for cname in X_train_full.columns\n",
    "                if X_train_full[cname].dtype in ['int64', 'float64']]"
   ]
  },
  {
   "cell_type": "code",
   "execution_count": 13,
   "id": "8b19726a",
   "metadata": {
    "execution": {
     "iopub.execute_input": "2022-03-25T15:50:06.160434Z",
     "iopub.status.busy": "2022-03-25T15:50:06.157430Z",
     "iopub.status.idle": "2022-03-25T15:50:06.172334Z",
     "shell.execute_reply": "2022-03-25T15:50:06.172924Z",
     "shell.execute_reply.started": "2022-03-25T15:47:36.654713Z"
    },
    "papermill": {
     "duration": 0.042017,
     "end_time": "2022-03-25T15:50:06.173145",
     "exception": false,
     "start_time": "2022-03-25T15:50:06.131128",
     "status": "completed"
    },
    "tags": []
   },
   "outputs": [],
   "source": [
    "# Keep selected columns only\n",
    "my_cols = low_cardinality_cols + numeric_cols\n",
    "\n",
    "X_train = X_train_full[my_cols].copy()\n",
    "X_valid = X_valid_full[my_cols].copy()\n",
    "\n",
    "# for test data also\n",
    "X_test = test[my_cols].copy()"
   ]
  },
  {
   "cell_type": "code",
   "execution_count": 14,
   "id": "28bd8a09",
   "metadata": {
    "execution": {
     "iopub.execute_input": "2022-03-25T15:50:06.229130Z",
     "iopub.status.busy": "2022-03-25T15:50:06.227954Z",
     "iopub.status.idle": "2022-03-25T15:50:06.379443Z",
     "shell.execute_reply": "2022-03-25T15:50:06.378844Z",
     "shell.execute_reply.started": "2022-03-25T15:47:36.675504Z"
    },
    "papermill": {
     "duration": 0.182124,
     "end_time": "2022-03-25T15:50:06.379585",
     "exception": false,
     "start_time": "2022-03-25T15:50:06.197461",
     "status": "completed"
    },
    "tags": []
   },
   "outputs": [],
   "source": [
    "# One-hot encode the data\n",
    "X_train = pd.get_dummies(X_train)\n",
    "X_valid = pd.get_dummies(X_valid)\n",
    "X_test = pd.get_dummies(X_test)\n",
    "\n",
    "X_train, X_valid = X_train.align(X_valid, join='left', axis=1)\n",
    "X_train, X_test = X_train.align(X_test, join='left', axis=1)"
   ]
  },
  {
   "cell_type": "markdown",
   "id": "130dca66",
   "metadata": {
    "papermill": {
     "duration": 0.02189,
     "end_time": "2022-03-25T15:50:06.423926",
     "exception": false,
     "start_time": "2022-03-25T15:50:06.402036",
     "status": "completed"
    },
    "tags": []
   },
   "source": [
    "## Model Fitting and Prediction"
   ]
  },
  {
   "cell_type": "code",
   "execution_count": 15,
   "id": "0ac1725f",
   "metadata": {
    "execution": {
     "iopub.execute_input": "2022-03-25T15:50:06.472246Z",
     "iopub.status.busy": "2022-03-25T15:50:06.471231Z",
     "iopub.status.idle": "2022-03-25T15:50:06.476587Z",
     "shell.execute_reply": "2022-03-25T15:50:06.475905Z",
     "shell.execute_reply.started": "2022-03-25T15:47:36.799400Z"
    },
    "papermill": {
     "duration": 0.030461,
     "end_time": "2022-03-25T15:50:06.476731",
     "exception": false,
     "start_time": "2022-03-25T15:50:06.446270",
     "status": "completed"
    },
    "tags": []
   },
   "outputs": [],
   "source": [
    "# Define the model\n",
    "xgb =  XGBRegressor(n_estimators=1000,\n",
    "                    learning_rate=0.05)"
   ]
  },
  {
   "cell_type": "code",
   "execution_count": 16,
   "id": "6cfdb534",
   "metadata": {
    "execution": {
     "iopub.execute_input": "2022-03-25T15:50:06.526201Z",
     "iopub.status.busy": "2022-03-25T15:50:06.525510Z",
     "iopub.status.idle": "2022-03-25T15:50:13.337118Z",
     "shell.execute_reply": "2022-03-25T15:50:13.336441Z",
     "shell.execute_reply.started": "2022-03-25T15:47:36.804930Z"
    },
    "papermill": {
     "duration": 6.837339,
     "end_time": "2022-03-25T15:50:13.337267",
     "exception": false,
     "start_time": "2022-03-25T15:50:06.499928",
     "status": "completed"
    },
    "tags": []
   },
   "outputs": [
    {
     "data": {
      "text/plain": [
       "XGBRegressor(base_score=0.5, booster='gbtree', colsample_bylevel=1,\n",
       "             colsample_bynode=1, colsample_bytree=1, gamma=0, gpu_id=-1,\n",
       "             importance_type='gain', interaction_constraints='',\n",
       "             learning_rate=0.05, max_delta_step=0, max_depth=6,\n",
       "             min_child_weight=1, missing=nan, monotone_constraints='()',\n",
       "             n_estimators=1000, n_jobs=4, num_parallel_tree=1, random_state=0,\n",
       "             reg_alpha=0, reg_lambda=1, scale_pos_weight=1, subsample=1,\n",
       "             tree_method='exact', validate_parameters=1, verbosity=None)"
      ]
     },
     "execution_count": 16,
     "metadata": {},
     "output_type": "execute_result"
    }
   ],
   "source": [
    "# Fit the model\n",
    "xgb.fit(X_train, y_train)"
   ]
  },
  {
   "cell_type": "code",
   "execution_count": 17,
   "id": "1190dc63",
   "metadata": {
    "execution": {
     "iopub.execute_input": "2022-03-25T15:50:13.389492Z",
     "iopub.status.busy": "2022-03-25T15:50:13.388391Z",
     "iopub.status.idle": "2022-03-25T15:50:13.405626Z",
     "shell.execute_reply": "2022-03-25T15:50:13.406235Z",
     "shell.execute_reply.started": "2022-03-25T15:47:44.226649Z"
    },
    "papermill": {
     "duration": 0.045362,
     "end_time": "2022-03-25T15:50:13.406440",
     "exception": false,
     "start_time": "2022-03-25T15:50:13.361078",
     "status": "completed"
    },
    "tags": []
   },
   "outputs": [],
   "source": [
    "# Get predictions\n",
    "y_pred = xgb.predict(X_valid)"
   ]
  },
  {
   "cell_type": "code",
   "execution_count": 18,
   "id": "b4c54d85",
   "metadata": {
    "execution": {
     "iopub.execute_input": "2022-03-25T15:50:13.459211Z",
     "iopub.status.busy": "2022-03-25T15:50:13.458552Z",
     "iopub.status.idle": "2022-03-25T15:50:13.462675Z",
     "shell.execute_reply": "2022-03-25T15:50:13.461789Z",
     "shell.execute_reply.started": "2022-03-25T15:47:44.247868Z"
    },
    "papermill": {
     "duration": 0.032553,
     "end_time": "2022-03-25T15:50:13.462885",
     "exception": false,
     "start_time": "2022-03-25T15:50:13.430332",
     "status": "completed"
    },
    "tags": []
   },
   "outputs": [
    {
     "name": "stdout",
     "output_type": "stream",
     "text": [
      "Mean Absolute Error: 16688.691513270547\n"
     ]
    }
   ],
   "source": [
    "# Calculate MAE\n",
    "mae = mean_absolute_error(y_pred, y_valid)\n",
    "print(\"Mean Absolute Error:\" , mae)"
   ]
  },
  {
   "cell_type": "code",
   "execution_count": 19,
   "id": "7c6bb50a",
   "metadata": {
    "execution": {
     "iopub.execute_input": "2022-03-25T15:50:13.513094Z",
     "iopub.status.busy": "2022-03-25T15:50:13.512460Z",
     "iopub.status.idle": "2022-03-25T15:50:13.550048Z",
     "shell.execute_reply": "2022-03-25T15:50:13.549403Z",
     "shell.execute_reply.started": "2022-03-25T15:47:44.255114Z"
    },
    "papermill": {
     "duration": 0.063358,
     "end_time": "2022-03-25T15:50:13.550210",
     "exception": false,
     "start_time": "2022-03-25T15:50:13.486852",
     "status": "completed"
    },
    "tags": []
   },
   "outputs": [],
   "source": [
    "# prediction\n",
    "prediction = xgb.predict(X_test)"
   ]
  },
  {
   "cell_type": "code",
   "execution_count": 20,
   "id": "2a89a336",
   "metadata": {
    "execution": {
     "iopub.execute_input": "2022-03-25T15:50:13.604645Z",
     "iopub.status.busy": "2022-03-25T15:50:13.603589Z",
     "iopub.status.idle": "2022-03-25T15:50:13.635579Z",
     "shell.execute_reply": "2022-03-25T15:50:13.636078Z",
     "shell.execute_reply.started": "2022-03-25T15:47:44.297883Z"
    },
    "papermill": {
     "duration": 0.060865,
     "end_time": "2022-03-25T15:50:13.636260",
     "exception": false,
     "start_time": "2022-03-25T15:50:13.575395",
     "status": "completed"
    },
    "tags": []
   },
   "outputs": [
    {
     "data": {
      "text/html": [
       "<div>\n",
       "<style scoped>\n",
       "    .dataframe tbody tr th:only-of-type {\n",
       "        vertical-align: middle;\n",
       "    }\n",
       "\n",
       "    .dataframe tbody tr th {\n",
       "        vertical-align: top;\n",
       "    }\n",
       "\n",
       "    .dataframe thead th {\n",
       "        text-align: right;\n",
       "    }\n",
       "</style>\n",
       "<table border=\"1\" class=\"dataframe\">\n",
       "  <thead>\n",
       "    <tr style=\"text-align: right;\">\n",
       "      <th></th>\n",
       "      <th>Id</th>\n",
       "      <th>SalePrice</th>\n",
       "    </tr>\n",
       "  </thead>\n",
       "  <tbody>\n",
       "    <tr>\n",
       "      <th>0</th>\n",
       "      <td>1461</td>\n",
       "      <td>124009.125000</td>\n",
       "    </tr>\n",
       "    <tr>\n",
       "      <th>1</th>\n",
       "      <td>1462</td>\n",
       "      <td>155190.765625</td>\n",
       "    </tr>\n",
       "    <tr>\n",
       "      <th>2</th>\n",
       "      <td>1463</td>\n",
       "      <td>190439.531250</td>\n",
       "    </tr>\n",
       "    <tr>\n",
       "      <th>3</th>\n",
       "      <td>1464</td>\n",
       "      <td>190462.843750</td>\n",
       "    </tr>\n",
       "    <tr>\n",
       "      <th>4</th>\n",
       "      <td>1465</td>\n",
       "      <td>193896.171875</td>\n",
       "    </tr>\n",
       "  </tbody>\n",
       "</table>\n",
       "</div>"
      ],
      "text/plain": [
       "     Id      SalePrice\n",
       "0  1461  124009.125000\n",
       "1  1462  155190.765625\n",
       "2  1463  190439.531250\n",
       "3  1464  190462.843750\n",
       "4  1465  193896.171875"
      ]
     },
     "execution_count": 20,
     "metadata": {},
     "output_type": "execute_result"
    }
   ],
   "source": [
    "# Submission file\n",
    "\n",
    "output = pd.DataFrame({'Id': X_test.index,\n",
    "                       'SalePrice': prediction})\n",
    "output.to_csv('submission.csv', index=False)\n",
    "output.head()"
   ]
  }
 ],
 "metadata": {
  "kernelspec": {
   "display_name": "Python 3",
   "language": "python",
   "name": "python3"
  },
  "language_info": {
   "codemirror_mode": {
    "name": "ipython",
    "version": 3
   },
   "file_extension": ".py",
   "mimetype": "text/x-python",
   "name": "python",
   "nbconvert_exporter": "python",
   "pygments_lexer": "ipython3",
   "version": "3.7.10"
  },
  "papermill": {
   "default_parameters": {},
   "duration": 18.748354,
   "end_time": "2022-03-25T15:50:14.369769",
   "environment_variables": {},
   "exception": null,
   "input_path": "__notebook__.ipynb",
   "output_path": "__notebook__.ipynb",
   "parameters": {},
   "start_time": "2022-03-25T15:49:55.621415",
   "version": "2.3.3"
  }
 },
 "nbformat": 4,
 "nbformat_minor": 5
}
